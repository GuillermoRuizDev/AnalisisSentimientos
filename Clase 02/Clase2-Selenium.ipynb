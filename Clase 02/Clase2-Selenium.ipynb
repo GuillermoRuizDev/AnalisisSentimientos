{
 "cells": [
  {
   "cell_type": "code",
   "execution_count": 1,
   "metadata": {},
   "outputs": [],
   "source": [
    "from selenium import webdriver\n",
    "import time\n",
    "from bs4 import BeautifulSoup\n",
    "import warnings\n",
    "warnings.filterwarnings(\"ignore\")"
   ]
  },
  {
   "cell_type": "code",
   "execution_count": 2,
   "metadata": {},
   "outputs": [],
   "source": [
    "def create_link(link: str):\n",
    "    return \"https://www.tripadvisor.com\" + link + \"#REVIEWS\"\n",
    "\n",
    "def set_driver():\n",
    "    options = webdriver.ChromeOptions()\n",
    "    options.add_argument('--ignore-certificate-errors')\n",
    "    options.add_argument('--incognito')\n",
    "    options.add_argument('--headless')\n",
    "    driver = webdriver.Chrome(\"/Users/gbustamante/Documents/ad/chromedriver\", chrome_options=options)\n",
    "    return driver"
   ]
  },
  {
   "cell_type": "code",
   "execution_count": 3,
   "metadata": {},
   "outputs": [
    {
     "name": "stdout",
     "output_type": "stream",
     "text": [
      "https://www.tripadvisor.com/Airline_Review-d8729157-Reviews-Spirit-Airlines#REVIEWS\n",
      "https://www.tripadvisor.com/Airline_Review-d8729157-Reviews-or5-Spirit-Airlines#REVIEWS\n",
      "https://www.tripadvisor.com/Airline_Review-d8729157-Reviews-or10-Spirit-Airlines#REVIEWS\n",
      "https://www.tripadvisor.com/Airline_Review-d8729157-Reviews-or15-Spirit-Airlines#REVIEWS\n",
      "https://www.tripadvisor.com/Airline_Review-d8729157-Reviews-or20-Spirit-Airlines#REVIEWS\n"
     ]
    }
   ],
   "source": [
    "page_link = '/Airline_Review-d8729157-Reviews-Spirit-Airlines'\n",
    "all_reviews = []\n",
    "n_pages = 5 #número de páginas a scrapear\n",
    "\n",
    "for i in range(0, n_pages):\n",
    "    #Url\n",
    "    url = create_link(page_link)\n",
    "    print(url)\n",
    "    \n",
    "    driver = set_driver()\n",
    "    driver.get(url)\n",
    "    time.sleep(2)\n",
    "    \n",
    "    #Botones read-more\n",
    "    more_buttons = driver.find_elements_by_class_name(\"_36B4Vw6t\")\n",
    "    for x in range(len(more_buttons)):\n",
    "        if more_buttons[x].is_displayed():\n",
    "            driver.execute_script(\"arguments[0].click();\", more_buttons[x])\n",
    "            time.sleep(5)\n",
    "    page_source = driver.page_source\n",
    "\n",
    "    #Extraer textos\n",
    "    soup = BeautifulSoup(page_source, 'lxml')\n",
    "    reviews_selector = soup.find_all('div', class_='location-review-review-list-parts-SingleReview__mainCol--1hApa')\n",
    "    for review_selector in reviews_selector:\n",
    "        review_div = review_selector.find('q', class_='location-review-review-list-parts-ExpandableReview__reviewText--gOmRC')\n",
    "        if review_div is None:\n",
    "            review_div = \"\"\n",
    "        review = review_div.find('span').get_text()\n",
    "        review = review.strip()\n",
    "        all_reviews.append(review)\n",
    "\n",
    "    #Obtener el link a la siguiente página    \n",
    "    page_link = soup.find('a', {'class':['ui_button nav next primary']})['href']\n",
    "    page_link = page_link.split('.html')[0]\n",
    "    \n",
    "    driver.close()"
   ]
  },
  {
   "cell_type": "code",
   "execution_count": 4,
   "metadata": {},
   "outputs": [
    {
     "data": {
      "text/plain": [
       "25"
      ]
     },
     "execution_count": 4,
     "metadata": {},
     "output_type": "execute_result"
    }
   ],
   "source": [
    "len(all_reviews)"
   ]
  }
 ],
 "metadata": {
  "kernelspec": {
   "display_name": "Python 3",
   "language": "python",
   "name": "python3"
  },
  "language_info": {
   "codemirror_mode": {
    "name": "ipython",
    "version": 3
   },
   "file_extension": ".py",
   "mimetype": "text/x-python",
   "name": "python",
   "nbconvert_exporter": "python",
   "pygments_lexer": "ipython3",
   "version": "3.7.6"
  }
 },
 "nbformat": 4,
 "nbformat_minor": 4
}
