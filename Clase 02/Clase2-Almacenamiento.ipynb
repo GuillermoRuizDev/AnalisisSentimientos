{
 "cells": [
  {
   "cell_type": "code",
   "execution_count": 1,
   "metadata": {
    "colab": {},
    "colab_type": "code",
    "id": "BgAHtiUjCUB0"
   },
   "outputs": [],
   "source": [
    "%load_ext autoreload\n",
    "%autoreload 2\n",
    "%matplotlib inline\n",
    "%config InlineBackend.figure_format = 'retina'"
   ]
  },
  {
   "cell_type": "code",
   "execution_count": 2,
   "metadata": {
    "colab": {},
    "colab_type": "code",
    "id": "Eo7IHvyACUB6"
   },
   "outputs": [],
   "source": [
    "import json\n",
    "import tweepy\n",
    "import sys\n",
    "from tweepy.streaming import StreamListener\n",
    "import pymongo\n",
    "import matplotlib.pyplot as plt\n",
    "import seaborn as sns; sns.set(style='whitegrid')"
   ]
  },
  {
   "cell_type": "markdown",
   "metadata": {
    "colab_type": "text",
    "id": "OEvTNMoCCUB8"
   },
   "source": [
    "### Twitter credentials"
   ]
  },
  {
   "cell_type": "code",
   "execution_count": 3,
   "metadata": {
    "colab": {},
    "colab_type": "code",
    "id": "wR7nOz_oCUB9"
   },
   "outputs": [],
   "source": [
    "with open(\"twitter_credentials.json\", \"r\") as file:\n",
    "    creds = json.load(file)"
   ]
  },
  {
   "cell_type": "code",
   "execution_count": 4,
   "metadata": {
    "colab": {},
    "colab_type": "code",
    "id": "_QJ-neQNCUCA"
   },
   "outputs": [],
   "source": [
    "auth = tweepy.OAuthHandler(creds['CONSUMER_KEY'], creds['CONSUMER_SECRET'])\n",
    "auth.set_access_token(creds['ACCESS_TOKEN'], creds['ACCESS_SECRET'])\n",
    "api = tweepy.API(auth, wait_on_rate_limit=True, wait_on_rate_limit_notify=True)"
   ]
  },
  {
   "cell_type": "markdown",
   "metadata": {
    "colab_type": "text",
    "id": "_SBGtTMoCUCC"
   },
   "source": [
    "### SteamListener"
   ]
  },
  {
   "cell_type": "markdown",
   "metadata": {
    "colab_type": "text",
    "id": "cwKYGtl3CUCD"
   },
   "source": [
    "Se necesita sobre escribir la clase **StreamListener**"
   ]
  },
  {
   "cell_type": "code",
   "execution_count": 5,
   "metadata": {
    "colab": {},
    "colab_type": "code",
    "id": "tTYn-UNOCUCE"
   },
   "outputs": [],
   "source": [
    "class MyStreamListener(StreamListener):\n",
    "    def __init__(self, output_db):\n",
    "        super(MyStreamListener,self).__init__()\n",
    "        self.output = output_db\n",
    "    \n",
    "    #Method that will be called when a tweet is downloaded\n",
    "    def on_status(self, status):\n",
    "        self.output.insert_one(json.loads(json.dumps(status._json)))\n",
    "    \n",
    "    #Handles errors returned by the API\n",
    "    \"\"\"The Twitter API will send a 420 status code if we’re being rate limited. \n",
    "    If this happens, we’ll want to disconnect. If it’s any other error, we’ll keep going:\"\"\"\n",
    "    def on_error(self, status_code):\n",
    "        if status_code == 420:\n",
    "            #returning False in on_error disconnects the stream\n",
    "            return False"
   ]
  },
  {
   "cell_type": "markdown",
   "metadata": {
    "colab_type": "text",
    "id": "PDIhOJ_WCUCF"
   },
   "source": [
    "#### Base de datos en mongo db"
   ]
  },
  {
   "cell_type": "markdown",
   "metadata": {
    "colab_type": "text",
    "id": "hZJyiCYVCUCG"
   },
   "source": [
    "- Como instalar mongo_db: https://tecadmin.net/install-mongodb-on-ubuntu/\n",
    "- Iniciarlo con **sudo service mongod start**\n",
    "- **mongo**"
   ]
  },
  {
   "cell_type": "code",
   "execution_count": 6,
   "metadata": {
    "colab": {},
    "colab_type": "code",
    "id": "tmhV85-4CUCH"
   },
   "outputs": [],
   "source": [
    "client = pymongo.MongoClient()\n",
    "db = client['db_tweets']\n",
    "tweets_coll = db['bf_tweets']"
   ]
  },
  {
   "cell_type": "code",
   "execution_count": 7,
   "metadata": {
    "colab": {},
    "colab_type": "code",
    "id": "H0USrxvaCUCJ"
   },
   "outputs": [],
   "source": [
    "output = open('output_tweets.txt', 'w')\n",
    "myStreamListener = MyStreamListener(tweets_coll)\n",
    "myStream = tweepy.Stream(auth = api.auth, listener=myStreamListener)"
   ]
  },
  {
   "cell_type": "code",
   "execution_count": 8,
   "metadata": {
    "colab": {
     "base_uri": "https://localhost:8080/",
     "height": 163
    },
    "colab_type": "code",
    "executionInfo": {
     "elapsed": 535,
     "status": "error",
     "timestamp": 1575733819620,
     "user": {
      "displayName": "GERSON RICARDO TORIBIO OSSIO",
      "photoUrl": "https://lh3.googleusercontent.com/a-/AAuE7mBKu2MnZxnqtU8H5nkSyDFcZrawiazKM2G2HFYiFw=s64",
      "userId": "06092836079200039022"
     },
     "user_tz": 300
    },
    "id": "XJZPuzBaCUCK",
    "outputId": "e3500d5d-67fd-40ad-bcf1-f9fbab84298c"
   },
   "outputs": [],
   "source": [
    "myStream.filter(track=['#WatermelonSugar'], is_async=True)"
   ]
  },
  {
   "cell_type": "code",
   "execution_count": 9,
   "metadata": {
    "colab": {},
    "colab_type": "code",
    "id": "uICbQO5NCUCM"
   },
   "outputs": [],
   "source": [
    "client = pymongo.MongoClient()\n",
    "db = client['db_tweets']\n",
    "tweets_coll = db['bf_tweets']"
   ]
  },
  {
   "cell_type": "code",
   "execution_count": 10,
   "metadata": {
    "colab": {},
    "colab_type": "code",
    "id": "RJr98uthCUCQ",
    "outputId": "15878709-9fdc-4240-87e5-6bad47548569"
   },
   "outputs": [
    {
     "data": {
      "text/plain": [
       "37812"
      ]
     },
     "execution_count": 10,
     "metadata": {},
     "output_type": "execute_result"
    }
   ],
   "source": [
    "tweets_coll.count_documents({})"
   ]
  },
  {
   "cell_type": "code",
   "execution_count": 11,
   "metadata": {
    "colab": {},
    "colab_type": "code",
    "id": "H279E0hYCUCT"
   },
   "outputs": [],
   "source": [
    "status_sample = tweets_coll.find({})[0]"
   ]
  },
  {
   "cell_type": "code",
   "execution_count": 12,
   "metadata": {
    "colab": {},
    "colab_type": "code",
    "id": "2Tw2qBWwCUCV",
    "outputId": "ea14f02b-a35a-4dbc-fd45-438cb50d1d0f"
   },
   "outputs": [
    {
     "data": {
      "text/plain": [
       "dict_keys(['_id', 'created_at', 'id', 'id_str', 'text', 'source', 'truncated', 'in_reply_to_status_id', 'in_reply_to_status_id_str', 'in_reply_to_user_id', 'in_reply_to_user_id_str', 'in_reply_to_screen_name', 'user', 'geo', 'coordinates', 'place', 'contributors', 'retweeted_status', 'is_quote_status', 'quote_count', 'reply_count', 'retweet_count', 'favorite_count', 'entities', 'favorited', 'retweeted', 'filter_level', 'lang', 'timestamp_ms'])"
      ]
     },
     "execution_count": 12,
     "metadata": {},
     "output_type": "execute_result"
    }
   ],
   "source": [
    "status_sample.keys()"
   ]
  },
  {
   "cell_type": "code",
   "execution_count": 49,
   "metadata": {
    "colab": {},
    "colab_type": "code",
    "id": "pbJmlG85CUCZ",
    "outputId": "2aeb73de-ded5-4d4e-cc3e-134646f1f566"
   },
   "outputs": [
    {
     "data": {
      "text/plain": [
       "39397"
      ]
     },
     "execution_count": 49,
     "metadata": {},
     "output_type": "execute_result"
    }
   ],
   "source": [
    "all_tweets = list(tweets_coll.find({}))\n",
    "len(all_tweets)"
   ]
  },
  {
   "cell_type": "code",
   "execution_count": 15,
   "metadata": {
    "colab": {},
    "colab_type": "code",
    "id": "nz7QBrj1CUCa",
    "outputId": "a61a8804-b228-4c45-8c15-6acc482a6ed5"
   },
   "outputs": [
    {
     "data": {
      "text/plain": [
       "<matplotlib.axes._subplots.AxesSubplot at 0x110018350>"
      ]
     },
     "execution_count": 15,
     "metadata": {},
     "output_type": "execute_result"
    },
    {
     "data": {
      "image/png": "[encoded data removed]",
      "text/plain": [
       "<Figure size 720x504 with 1 Axes>"
      ]
     },
     "metadata": {
      "image/png": {
       "height": 414,
       "width": 627
      }
     },
     "output_type": "display_data"
    }
   ],
   "source": [
    "plt.figure(figsize=(10,7))\n",
    "sns.countplot([tweet['lang'] for tweet in all_tweets])"
   ]
  },
  {
   "cell_type": "code",
   "execution_count": 63,
   "metadata": {},
   "outputs": [
    {
     "data": {
      "text/plain": [
       "1260626726226362368"
      ]
     },
     "execution_count": 63,
     "metadata": {},
     "output_type": "execute_result"
    }
   ],
   "source": [
    "all_tweets[0]['id']"
   ]
  },
  {
   "cell_type": "code",
   "execution_count": 16,
   "metadata": {},
   "outputs": [
    {
     "data": {
      "text/plain": [
       "(37937, 6)"
      ]
     },
     "execution_count": 16,
     "metadata": {},
     "output_type": "execute_result"
    }
   ],
   "source": [
    "import json\n",
    "import pandas as pd\n",
    "import re\n",
    "# Convertir la respuesta del API a un dataframe\n",
    "tweets = []\n",
    "for result in all_tweets:\n",
    "    tweet_dict = {}\n",
    "    tweet_dict['id'] = result['id']\n",
    "    tweet_dict['text'] = result['text']\n",
    "    tweet_dict['truncated'] = result['truncated']\n",
    "    tweet_dict['source'] = [re.findall('\\>(.*?)\\<', result['source'])[0] if result['source'] else ' ']\n",
    "    tweet_dict['retweet_count'] = result['retweet_count']\n",
    "    tweet_dict['favorite_count'] = result['favorite_count']\n",
    "    tweets.append(tweet_dict)\n",
    "df_tweets = pd.DataFrame(tweets)\n",
    "df_tweets.shape"
   ]
  },
  {
   "cell_type": "code",
   "execution_count": 35,
   "metadata": {},
   "outputs": [
    {
     "data": {
      "text/html": [
       "<div>\n",
       "<style scoped>\n",
       "    .dataframe tbody tr th:only-of-type {\n",
       "        vertical-align: middle;\n",
       "    }\n",
       "\n",
       "    .dataframe tbody tr th {\n",
       "        vertical-align: top;\n",
       "    }\n",
       "\n",
       "    .dataframe thead th {\n",
       "        text-align: right;\n",
       "    }\n",
       "</style>\n",
       "<table border=\"1\" class=\"dataframe\">\n",
       "  <thead>\n",
       "    <tr style=\"text-align: right;\">\n",
       "      <th></th>\n",
       "      <th>id</th>\n",
       "      <th>text</th>\n",
       "      <th>truncated</th>\n",
       "      <th>source</th>\n",
       "      <th>retweet_count</th>\n",
       "      <th>favorite_count</th>\n",
       "    </tr>\n",
       "  </thead>\n",
       "  <tbody>\n",
       "    <tr>\n",
       "      <th>4752</th>\n",
       "      <td>1260628183621046273</td>\n",
       "      <td>🍉🍉🍉🍉🍉🍉 #WatermelonSugar #WatermelonSugarMV htt...</td>\n",
       "      <td>False</td>\n",
       "      <td>[Twitter for Android]</td>\n",
       "      <td>0</td>\n",
       "      <td>0</td>\n",
       "    </tr>\n",
       "    <tr>\n",
       "      <th>23252</th>\n",
       "      <td>1260647436155944962</td>\n",
       "      <td>@95hniall_ #WatermelonSugar</td>\n",
       "      <td>False</td>\n",
       "      <td>[Twitter for Android]</td>\n",
       "      <td>0</td>\n",
       "      <td>0</td>\n",
       "    </tr>\n",
       "    <tr>\n",
       "      <th>37808</th>\n",
       "      <td>1260656491788292097</td>\n",
       "      <td>RT @maxregan71: Do you want to convert your im...</td>\n",
       "      <td>False</td>\n",
       "      <td>[Twitter Web App]</td>\n",
       "      <td>0</td>\n",
       "      <td>0</td>\n",
       "    </tr>\n",
       "    <tr>\n",
       "      <th>20156</th>\n",
       "      <td>1260646002802868224</td>\n",
       "      <td>tengeneng #WatermelonSugar</td>\n",
       "      <td>False</td>\n",
       "      <td>[TengenengTrends]</td>\n",
       "      <td>0</td>\n",
       "      <td>0</td>\n",
       "    </tr>\n",
       "    <tr>\n",
       "      <th>4184</th>\n",
       "      <td>1260628047499313154</td>\n",
       "      <td>RT @hsdaily: #WatermelonSugar. Coming Soon.🍉 h...</td>\n",
       "      <td>False</td>\n",
       "      <td>[Twitter for iPhone]</td>\n",
       "      <td>0</td>\n",
       "      <td>0</td>\n",
       "    </tr>\n",
       "    <tr>\n",
       "      <th>30801</th>\n",
       "      <td>1260651205606293504</td>\n",
       "      <td>RT @haroldweloveyou: Eu si ven el video de WS ...</td>\n",
       "      <td>False</td>\n",
       "      <td>[Twitter for Android]</td>\n",
       "      <td>0</td>\n",
       "      <td>0</td>\n",
       "    </tr>\n",
       "    <tr>\n",
       "      <th>36649</th>\n",
       "      <td>1260654826154688514</td>\n",
       "      <td>RT @latelateshow: but guys the #watermelonsuga...</td>\n",
       "      <td>False</td>\n",
       "      <td>[Twitter for iPhone]</td>\n",
       "      <td>0</td>\n",
       "      <td>0</td>\n",
       "    </tr>\n",
       "    <tr>\n",
       "      <th>26327</th>\n",
       "      <td>1260648882356105216</td>\n",
       "      <td>RT @Jaz_Tomlinson25: ¿Ustedes entienden el pod...</td>\n",
       "      <td>False</td>\n",
       "      <td>[Twitter for Android]</td>\n",
       "      <td>0</td>\n",
       "      <td>0</td>\n",
       "    </tr>\n",
       "    <tr>\n",
       "      <th>4635</th>\n",
       "      <td>1260628154898681856</td>\n",
       "      <td>RT @HarryS_Chile: ¿Alguien más estaba necesita...</td>\n",
       "      <td>False</td>\n",
       "      <td>[Twitter for Android]</td>\n",
       "      <td>0</td>\n",
       "      <td>0</td>\n",
       "    </tr>\n",
       "    <tr>\n",
       "      <th>37227</th>\n",
       "      <td>1260655170767077376</td>\n",
       "      <td>RT @mysugarharry: Kiwi walked so watermelon su...</td>\n",
       "      <td>False</td>\n",
       "      <td>[Twitter for iPhone]</td>\n",
       "      <td>0</td>\n",
       "      <td>0</td>\n",
       "    </tr>\n",
       "    <tr>\n",
       "      <th>2048</th>\n",
       "      <td>1260627547102023682</td>\n",
       "      <td>RT @hsIotkissy: HARRIES DO IT BEST. YUP! #Wate...</td>\n",
       "      <td>False</td>\n",
       "      <td>[Twitter for iPhone]</td>\n",
       "      <td>0</td>\n",
       "      <td>0</td>\n",
       "    </tr>\n",
       "    <tr>\n",
       "      <th>4693</th>\n",
       "      <td>1260628168387559431</td>\n",
       "      <td>ahhhhhhhh!!! ☀️🍉😎💚🎉🤩 ITS COMINGGGGG #Watermelo...</td>\n",
       "      <td>False</td>\n",
       "      <td>[Twitter for iPhone]</td>\n",
       "      <td>0</td>\n",
       "      <td>0</td>\n",
       "    </tr>\n",
       "    <tr>\n",
       "      <th>29639</th>\n",
       "      <td>1260650586510225409</td>\n",
       "      <td>RT @bettycett: In which we’re all James #Water...</td>\n",
       "      <td>False</td>\n",
       "      <td>[Twitter for iPhone]</td>\n",
       "      <td>0</td>\n",
       "      <td>0</td>\n",
       "    </tr>\n",
       "    <tr>\n",
       "      <th>5412</th>\n",
       "      <td>1260628345588453376</td>\n",
       "      <td>@visiteroda #WatermelonSugar what is happening...</td>\n",
       "      <td>False</td>\n",
       "      <td>[Twitter for iPhone]</td>\n",
       "      <td>0</td>\n",
       "      <td>0</td>\n",
       "    </tr>\n",
       "    <tr>\n",
       "      <th>15493</th>\n",
       "      <td>1260630976113278976</td>\n",
       "      <td>RT @PopCrave: #WatermelonSugar by @Harry_Style...</td>\n",
       "      <td>False</td>\n",
       "      <td>[Twitter for iPhone]</td>\n",
       "      <td>0</td>\n",
       "      <td>0</td>\n",
       "    </tr>\n",
       "    <tr>\n",
       "      <th>33810</th>\n",
       "      <td>1260653010927013889</td>\n",
       "      <td>RT @finelinedemi: am i ? 🍉 #WatermelonSugar ht...</td>\n",
       "      <td>False</td>\n",
       "      <td>[Twitter for iPhone]</td>\n",
       "      <td>0</td>\n",
       "      <td>0</td>\n",
       "    </tr>\n",
       "    <tr>\n",
       "      <th>3436</th>\n",
       "      <td>1260627863876677632</td>\n",
       "      <td>\"I just wanna taste it, I just wanna taste it\\...</td>\n",
       "      <td>False</td>\n",
       "      <td>[Twitter for Android]</td>\n",
       "      <td>0</td>\n",
       "      <td>0</td>\n",
       "    </tr>\n",
       "    <tr>\n",
       "      <th>33145</th>\n",
       "      <td>1260652592649998337</td>\n",
       "      <td>RT @visiteroda: 🍉🍉🍉🍉🍉🍉🍉 https://t.co/jvttcv731f</td>\n",
       "      <td>False</td>\n",
       "      <td>[Twitter Web App]</td>\n",
       "      <td>0</td>\n",
       "      <td>0</td>\n",
       "    </tr>\n",
       "    <tr>\n",
       "      <th>32533</th>\n",
       "      <td>1260652215892467712</td>\n",
       "      <td>RT @houisolonely: já agradeceu por viver na me...</td>\n",
       "      <td>False</td>\n",
       "      <td>[Twitter for Android]</td>\n",
       "      <td>0</td>\n",
       "      <td>0</td>\n",
       "    </tr>\n",
       "    <tr>\n",
       "      <th>28933</th>\n",
       "      <td>1260650225003188225</td>\n",
       "      <td>RT @zaddyass: Only because harry said I’m deli...</td>\n",
       "      <td>False</td>\n",
       "      <td>[Twitter for iPhone]</td>\n",
       "      <td>0</td>\n",
       "      <td>0</td>\n",
       "    </tr>\n",
       "  </tbody>\n",
       "</table>\n",
       "</div>"
      ],
      "text/plain": [
       "                        id                                               text  \\\n",
       "4752   1260628183621046273  🍉🍉🍉🍉🍉🍉 #WatermelonSugar #WatermelonSugarMV htt...   \n",
       "23252  1260647436155944962                        @95hniall_ #WatermelonSugar   \n",
       "37808  1260656491788292097  RT @maxregan71: Do you want to convert your im...   \n",
       "20156  1260646002802868224                         tengeneng #WatermelonSugar   \n",
       "4184   1260628047499313154  RT @hsdaily: #WatermelonSugar. Coming Soon.🍉 h...   \n",
       "30801  1260651205606293504  RT @haroldweloveyou: Eu si ven el video de WS ...   \n",
       "36649  1260654826154688514  RT @latelateshow: but guys the #watermelonsuga...   \n",
       "26327  1260648882356105216  RT @Jaz_Tomlinson25: ¿Ustedes entienden el pod...   \n",
       "4635   1260628154898681856  RT @HarryS_Chile: ¿Alguien más estaba necesita...   \n",
       "37227  1260655170767077376  RT @mysugarharry: Kiwi walked so watermelon su...   \n",
       "2048   1260627547102023682  RT @hsIotkissy: HARRIES DO IT BEST. YUP! #Wate...   \n",
       "4693   1260628168387559431  ahhhhhhhh!!! ☀️🍉😎💚🎉🤩 ITS COMINGGGGG #Watermelo...   \n",
       "29639  1260650586510225409  RT @bettycett: In which we’re all James #Water...   \n",
       "5412   1260628345588453376  @visiteroda #WatermelonSugar what is happening...   \n",
       "15493  1260630976113278976  RT @PopCrave: #WatermelonSugar by @Harry_Style...   \n",
       "33810  1260653010927013889  RT @finelinedemi: am i ? 🍉 #WatermelonSugar ht...   \n",
       "3436   1260627863876677632  \"I just wanna taste it, I just wanna taste it\\...   \n",
       "33145  1260652592649998337    RT @visiteroda: 🍉🍉🍉🍉🍉🍉🍉 https://t.co/jvttcv731f   \n",
       "32533  1260652215892467712  RT @houisolonely: já agradeceu por viver na me...   \n",
       "28933  1260650225003188225  RT @zaddyass: Only because harry said I’m deli...   \n",
       "\n",
       "       truncated                 source  retweet_count  favorite_count  \n",
       "4752       False  [Twitter for Android]              0               0  \n",
       "23252      False  [Twitter for Android]              0               0  \n",
       "37808      False      [Twitter Web App]              0               0  \n",
       "20156      False      [TengenengTrends]              0               0  \n",
       "4184       False   [Twitter for iPhone]              0               0  \n",
       "30801      False  [Twitter for Android]              0               0  \n",
       "36649      False   [Twitter for iPhone]              0               0  \n",
       "26327      False  [Twitter for Android]              0               0  \n",
       "4635       False  [Twitter for Android]              0               0  \n",
       "37227      False   [Twitter for iPhone]              0               0  \n",
       "2048       False   [Twitter for iPhone]              0               0  \n",
       "4693       False   [Twitter for iPhone]              0               0  \n",
       "29639      False   [Twitter for iPhone]              0               0  \n",
       "5412       False   [Twitter for iPhone]              0               0  \n",
       "15493      False   [Twitter for iPhone]              0               0  \n",
       "33810      False   [Twitter for iPhone]              0               0  \n",
       "3436       False  [Twitter for Android]              0               0  \n",
       "33145      False      [Twitter Web App]              0               0  \n",
       "32533      False  [Twitter for Android]              0               0  \n",
       "28933      False   [Twitter for iPhone]              0               0  "
      ]
     },
     "execution_count": 35,
     "metadata": {},
     "output_type": "execute_result"
    }
   ],
   "source": [
    "df_tweets.sample(20)"
   ]
  },
  {
   "cell_type": "code",
   "execution_count": 56,
   "metadata": {},
   "outputs": [],
   "source": [
    "import json\n",
    "from bson import ObjectId\n",
    "\n",
    "class JSONEncoder(json.JSONEncoder):\n",
    "    def default(self, o):\n",
    "        if isinstance(o, ObjectId):\n",
    "            return str(o)\n",
    "        return json.JSONEncoder.default(self, o)"
   ]
  },
  {
   "cell_type": "code",
   "execution_count": 59,
   "metadata": {},
   "outputs": [],
   "source": [
    "output.write(JSONEncoder().encode(all_tweets[0:200]))\n",
    "output.close()"
   ]
  },
  {
   "cell_type": "code",
   "execution_count": 60,
   "metadata": {},
   "outputs": [],
   "source": [
    "output = open('output_tweets.txt', 'r')\n",
    "json2 = output.read()"
   ]
  },
  {
   "cell_type": "code",
   "execution_count": null,
   "metadata": {},
   "outputs": [],
   "source": []
  }
 ],
 "metadata": {
  "colab": {
   "name": "tweetpy_ex.ipynb",
   "provenance": []
  },
  "kernelspec": {
   "display_name": "Python 3",
   "language": "python",
   "name": "python3"
  },
  "language_info": {
   "codemirror_mode": {
    "name": "ipython",
    "version": 3
   },
   "file_extension": ".py",
   "mimetype": "text/x-python",
   "name": "python",
   "nbconvert_exporter": "python",
   "pygments_lexer": "ipython3",
   "version": "3.7.6"
  }
 },
 "nbformat": 4,
 "nbformat_minor": 4
}
